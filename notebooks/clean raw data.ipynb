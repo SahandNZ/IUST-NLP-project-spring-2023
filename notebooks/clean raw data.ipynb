{
 "cells": [
  {
   "cell_type": "code",
   "execution_count": null,
   "id": "2c8cde2b-f52e-4f8f-94d2-8979823fa73a",
   "metadata": {},
   "outputs": [],
   "source": [
    "import sys\n",
    "sys.path.append('./../')"
   ]
  },
  {
   "cell_type": "code",
   "execution_count": null,
   "id": "d8a644c9-f2c1-418d-b0c9-0bd1edef0076",
   "metadata": {},
   "outputs": [],
   "source": [
    "import os\n",
    "import math\n",
    "import copy\n",
    "import warnings\n",
    "import itertools\n",
    "from typing import List, Dict\n",
    "from datetime import datetime\n",
    "\n",
    "import numpy as np\n",
    "import pandas as pd\n",
    "from tqdm import tqdm\n",
    "\n",
    "from definitions import *\n",
    "from src.crawler.textual.model.news import News\n",
    "\n",
    "warnings.filterwarnings('ignore')"
   ]
  },
  {
   "cell_type": "code",
   "execution_count": null,
   "id": "c3f26e92-a28c-4b32-8751-0631ff46446b",
   "metadata": {},
   "outputs": [],
   "source": [
    "def clean_datetime(value: str) -> datetime:\n",
    "    \n",
    "def clean_string(value: str) -> str:\n",
    "    return value"
   ]
  },
  {
   "cell_type": "code",
   "execution_count": null,
   "id": "49fd47a7-8180-40a5-80cb-4f972b176eb0",
   "metadata": {},
   "outputs": [],
   "source": [
    "raw_news_json_path = os.path.join(TEXTUAL_RAW_DATA_DIR, 'cryptonews', 'news.json')\n",
    "raw_news_list = News.from_json(raw_news_json_path)\n",
    "\n",
    "titles = []\n",
    "news = []\n",
    "for raw_news in raw_news_list[:2]:\n",
    "    date = clean_datetime(raw_news.date)\n",
    "    title = clean_string(raw_news.title)\n",
    "    url = raw_news.url\n",
    "    titles.append([date, title, url])\n",
    "    \n",
    "    for paragraph in raw_news.paragraphs:\n",
    "        paragraph = clean_string(paragraph)"
   ]
  },
  {
   "cell_type": "code",
   "execution_count": null,
   "id": "3b428933-4184-422e-bed3-85011719cdb4",
   "metadata": {},
   "outputs": [],
   "source": [
    "titles"
   ]
  },
  {
   "cell_type": "code",
   "execution_count": null,
   "id": "13fd9342-a737-4bcd-97e8-5e05335ea01d",
   "metadata": {},
   "outputs": [],
   "source": []
  }
 ],
 "metadata": {
  "kernelspec": {
   "display_name": "Python 3 (ipykernel)",
   "language": "python",
   "name": "python3"
  },
  "language_info": {
   "codemirror_mode": {
    "name": "ipython",
    "version": 3
   },
   "file_extension": ".py",
   "mimetype": "text/x-python",
   "name": "python",
   "nbconvert_exporter": "python",
   "pygments_lexer": "ipython3",
   "version": "3.9.6"
  }
 },
 "nbformat": 4,
 "nbformat_minor": 5
}
