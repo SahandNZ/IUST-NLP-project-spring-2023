{
 "cells": [
  {
   "cell_type": "code",
   "execution_count": null,
   "id": "2c8cde2b-f52e-4f8f-94d2-8979823fa73a",
   "metadata": {},
   "outputs": [],
   "source": [
    "import sys\n",
    "sys.path.append('./../')"
   ]
  },
  {
   "cell_type": "code",
   "execution_count": null,
   "id": "d8a644c9-f2c1-418d-b0c9-0bd1edef0076",
   "metadata": {},
   "outputs": [],
   "source": [
    "import os\n",
    "import re\n",
    "import math\n",
    "import copy\n",
    "import warnings\n",
    "import itertools\n",
    "from typing import List, Dict\n",
    "from datetime import datetime\n",
    "\n",
    "import numpy as np\n",
    "import pandas as pd\n",
    "from tqdm import tqdm\n",
    "from nltk.corpus import stopwords\n",
    "\n",
    "from definitions import *\n",
    "from src.model.news import News\n",
    "\n",
    "warnings.filterwarnings('ignore')"
   ]
  },
  {
   "cell_type": "code",
   "execution_count": null,
   "id": "49fd47a7-8180-40a5-80cb-4f972b176eb0",
   "metadata": {},
   "outputs": [],
   "source": [
    "raw_news_json_path = os.path.join(RAW_DATA_DIR, 'cryptonews', 'news.json')\n",
    "raw_news_list = News.from_json(raw_news_json_path)\n",
    "raw_news = raw_news_list[0]\n",
    "\n",
    "print(raw_news)"
   ]
  },
  {
   "cell_type": "code",
   "execution_count": null,
   "id": "c3f26e92-a28c-4b32-8751-0631ff46446b",
   "metadata": {},
   "outputs": [],
   "source": [
    "def clean_datetime(raw_datetime: str) -> datetime:\n",
    "    clean_datetime_str = raw_datetime.split('+')[0].replace('T', ' ')\n",
    "    return clean_datetime_str\n",
    "    \n",
    "def clean_string(raw_string: str) -> str:\n",
    "    # Normalize string\n",
    "    text = raw_string.lower()\n",
    "\n",
    "    # Remove unicode characters\n",
    "    text = re.sub(r\"(@\\[A-Za-z0-9]+)|([^0-9A-Za-z \\t])|(\\w+:\\/\\/\\S+)|^rt|http.+?\", \"\", text)\n",
    "\n",
    "    # Remove stop words\n",
    "    words = text.split()\n",
    "    useless_words = set(stopwords.words(\"english\"))\n",
    "    filtered_words = [word for word in words if word not in useless_words]\n",
    "\n",
    "    # join words\n",
    "    clean_string = ' '.join(filtered_words)\n",
    "\n",
    "    return clean_string"
   ]
  },
  {
   "cell_type": "code",
   "execution_count": null,
   "id": "3b428933-4184-422e-bed3-85011719cdb4",
   "metadata": {},
   "outputs": [],
   "source": [
    "clean_datetime_str = clean_datetime(raw_news.date)\n",
    "clean_title = clean_string(raw_news.title)\n",
    "\n",
    "print(clean_datetime_str)\n",
    "print(clean_title)"
   ]
  },
  {
   "cell_type": "code",
   "execution_count": null,
   "id": "13fd9342-a737-4bcd-97e8-5e05335ea01d",
   "metadata": {},
   "outputs": [],
   "source": []
  }
 ],
 "metadata": {
  "kernelspec": {
   "display_name": "Python 3 (ipykernel)",
   "language": "python",
   "name": "python3"
  },
  "language_info": {
   "codemirror_mode": {
    "name": "ipython",
    "version": 3
   },
   "file_extension": ".py",
   "mimetype": "text/x-python",
   "name": "python",
   "nbconvert_exporter": "python",
   "pygments_lexer": "ipython3",
   "version": "3.9.6"
  }
 },
 "nbformat": 4,
 "nbformat_minor": 5
}
