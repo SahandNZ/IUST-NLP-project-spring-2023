{
 "cells": [
  {
   "cell_type": "code",
   "execution_count": null,
   "id": "017952ce-8701-49f9-ba8c-ed97bc32dc86",
   "metadata": {},
   "outputs": [],
   "source": [
    "import sys\n",
    "sys.path.append('./../')"
   ]
  },
  {
   "cell_type": "code",
   "execution_count": null,
   "id": "472571a0-3d47-456e-9cf1-68cef0e080ef",
   "metadata": {},
   "outputs": [],
   "source": [
    "import os\n",
    "import re\n",
    "import math\n",
    "import copy\n",
    "import warnings\n",
    "import itertools\n",
    "from typing import List, Dict\n",
    "from datetime import datetime\n",
    "\n",
    "import numpy as np\n",
    "import pandas as pd\n",
    "from tqdm import tqdm\n",
    "import matplotlib.pyplot as plt\n",
    "\n",
    "from definitions import *\n",
    "\n",
    "warnings.filterwarnings('ignore')"
   ]
  },
  {
   "cell_type": "code",
   "execution_count": null,
   "id": "b9710b21-c8b7-424a-a1d7-ad1239dae235",
   "metadata": {},
   "outputs": [],
   "source": [
    "dataset_csv_path = os.path.join(DATASET_DIR, 'cryptonews', 'color', 'dataset.csv')\n",
    "sdf = pd.read_csv(dataset_csv_path)\n",
    "\n",
    "sdf"
   ]
  },
  {
   "cell_type": "code",
   "execution_count": null,
   "id": "750e5ee3-8480-42c7-9fd2-837eb4dfd445",
   "metadata": {},
   "outputs": [],
   "source": [
    "df = sdf.copy()\n",
    "df = df[['text', 'label']]\n",
    "\n",
    "df"
   ]
  },
  {
   "cell_type": "markdown",
   "id": "8242ee31-6c8c-4b93-9b77-1219c360250c",
   "metadata": {},
   "source": [
    "# Stats"
   ]
  },
  {
   "cell_type": "code",
   "execution_count": null,
   "id": "0a79e4bc-64a2-4226-9f3a-0c071e91c1b2",
   "metadata": {},
   "outputs": [],
   "source": [
    "def has_digit(inputString):\n",
    "    return any(char.isdigit() for char in inputString)"
   ]
  },
  {
   "cell_type": "markdown",
   "id": "250635c0-e2df-477c-8689-d8feb9158ff2",
   "metadata": {},
   "source": [
    "### Part A: Sample cout"
   ]
  },
  {
   "cell_type": "code",
   "execution_count": null,
   "id": "3caa3129-dc1a-4847-a899-9ec2bdbba625",
   "metadata": {},
   "outputs": [],
   "source": [
    "sample_count = len(df)\n",
    "\n",
    "sample_count"
   ]
  },
  {
   "cell_type": "markdown",
   "id": "ddcb0b77-7f8f-4147-9867-5c8da8fe19c2",
   "metadata": {},
   "source": [
    "### Part B: Sentence count"
   ]
  },
  {
   "cell_type": "code",
   "execution_count": null,
   "id": "c4ae40a1-c4ea-4419-93f5-92eebb6b4795",
   "metadata": {},
   "outputs": [],
   "source": [
    "sentence_count = len(df)\n",
    "\n",
    "sentence_count"
   ]
  },
  {
   "cell_type": "markdown",
   "id": "4ff80b63-d86f-4b9d-b80a-06daf1b14d1b",
   "metadata": {},
   "source": [
    "### Part C: word count"
   ]
  },
  {
   "cell_type": "code",
   "execution_count": null,
   "id": "fb98ecab-88ad-400c-9478-63e9a068165c",
   "metadata": {},
   "outputs": [],
   "source": [
    "words_list = [word for sentence in df.text for word in sentence.split() if not has_digit(word)]\n",
    "word_count = len(words_list)\n",
    "\n",
    "word_count"
   ]
  },
  {
   "cell_type": "markdown",
   "id": "71063205-4bad-4344-ac74-c17c06f0cbe2",
   "metadata": {},
   "source": [
    "### Part D: unique word count"
   ]
  },
  {
   "cell_type": "code",
   "execution_count": null,
   "id": "cbf7e1e0-72df-4cfc-afc9-43393180aed4",
   "metadata": {},
   "outputs": [],
   "source": [
    "unique_word_count = len(set(words_list))\n",
    "\n",
    "unique_word_count"
   ]
  },
  {
   "cell_type": "markdown",
   "id": "c1073bdb-bd1a-4a96-b37f-ca892f534e13",
   "metadata": {},
   "source": [
    "### Part D: unique word based on labels count"
   ]
  },
  {
   "cell_type": "code",
   "execution_count": null,
   "id": "052546ee-7807-4657-b59c-d0f6301ca11c",
   "metadata": {},
   "outputs": [],
   "source": [
    "word2label = {}\n",
    "for index in tqdm(range(len(df))):\n",
    "    sentence, label = df.iloc[index]\n",
    "    for word in sentence.split():\n",
    "        if not has_digit(word):\n",
    "            if word not in word2label:\n",
    "                word2label[word] = label\n",
    "            elif label != word2label[word] and 2 != word2label[word]:\n",
    "                word2label[word] = 2\n",
    "\n",
    "list(word2label.items())[:10]"
   ]
  },
  {
   "cell_type": "code",
   "execution_count": null,
   "id": "94c38a8e-e746-4b29-aa82-c8e0279f4552",
   "metadata": {},
   "outputs": [],
   "source": [
    "common_words_set = set([word for word, label in word2label.items() if 2 == label])\n",
    "green_words_set = set([word for word, label in word2label.items() if 1 == label])\n",
    "red_words_set = set([word for word, label in word2label.items() if 0 == label])\n",
    "\n",
    "print(\"Common word count\", len(common_words_set))\n",
    "print(\"Green  word count\", len(green_words_set))\n",
    "print(\"Red    word count\", len(red_words_set))"
   ]
  },
  {
   "cell_type": "markdown",
   "id": "da47e4e6-a91f-4863-86cf-55e57bf8f81f",
   "metadata": {},
   "source": [
    "### Part E: 10 most repetitive uncommon words of each class"
   ]
  },
  {
   "cell_type": "code",
   "execution_count": null,
   "id": "08286576-20f4-499e-9380-6595de4af185",
   "metadata": {},
   "outputs": [],
   "source": [
    "word2count = {}\n",
    "for word in words_list:\n",
    "    word2count[word] = 1 if word not in word2count else word2count[word] + 1 \n",
    "word2count = {word: count for word, count in sorted(word2count.items(), key=lambda x: x[1], reverse=True)}\n",
    "\n",
    "list(word2count.items())[:10]"
   ]
  },
  {
   "cell_type": "code",
   "execution_count": null,
   "id": "f9637667-2171-4da2-9c8c-35424183055f",
   "metadata": {},
   "outputs": [],
   "source": [
    "green_word2count = {word: count for word, count in word2count.items() if word in green_words_set and word not in red_words_set}\n",
    "red_word2count = {word: count for word, count in word2count.items() if word not in green_words_set and word in red_words_set}\n",
    "\n",
    "green_repetitive_words_list = list(green_word2count.items())[:10]\n",
    "red_repetitive_words_list = list(red_word2count.items())[:10]\n",
    "\n",
    "print(\"10 most repetitive green words:\")\n",
    "for word, count in green_repetitive_words_list:\n",
    "    print('\\t-', word, count)\n",
    "\n",
    "print(\"\\n10 most repetitive red words:\")\n",
    "for word, count in red_repetitive_words_list:\n",
    "    print('\\t-', word, count)"
   ]
  },
  {
   "cell_type": "markdown",
   "id": "f4066db0-4847-4d22-978d-1a5eb1dbadec",
   "metadata": {},
   "source": [
    "### Part F: Relative Normalized Frequency"
   ]
  },
  {
   "cell_type": "code",
   "execution_count": null,
   "id": "12d2c442-2585-45b1-bbf9-b51a972e7902",
   "metadata": {},
   "outputs": [],
   "source": [
    "green_count = sum(green_word2count.values())\n",
    "red_count = sum(red_word2count.values())\n",
    "\n",
    "common_words2rnf = {}\n",
    "for word in common_words_set:\n",
    "    common_words2rnf[word] = (word2count[word] / green_count) / (word2count[word] / red_count)\n",
    "\n",
    "common_words2rnf = {w: rnf for w, rnf in sorted(common_words2rnf.items(), key=lambda x: x[1], reverse=True)}\n",
    "list(common_words2rnf.items())[:10]"
   ]
  },
  {
   "cell_type": "markdown",
   "id": "84681085-242e-4991-bcb3-b29269d4bcfe",
   "metadata": {},
   "source": [
    "### Part G: TF-IDF"
   ]
  },
  {
   "cell_type": "code",
   "execution_count": null,
   "id": "6289f954-d714-4ac9-94ae-1fff380c6838",
   "metadata": {},
   "outputs": [],
   "source": [
    "items = [(green_words_set, green_word2count, green_count, 'green'),\n",
    "         (red_words_set, red_word2count, red_count, 'red')]\n",
    "\n",
    "for word_set, doc_word2count, total_doc, class_name in items:\n",
    "    word2tfidf = {}\n",
    "    for word in word_set:\n",
    "        tf = doc_word2count[word] / total_doc\n",
    "        nt = word2label[word] if 0 != word2label[word] else 1\n",
    "        idf = -np.log(nt / 2)\n",
    "        word2tfidf[word] = tf * idf\n",
    "\n",
    "    word2tfidf = {w: v for w, v in sorted(word2tfidf.items(), key=lambda x: x[1], reverse=True)}\n",
    "\n",
    "    print(\"10 word with greatest tf-idf value in {}\".format(class_name))\n",
    "    for word, value in list(word2tfidf.items())[:10]:\n",
    "        print(\"\\t- {:<20}{:.4f}\".format(word, value))\n",
    "    print()"
   ]
  },
  {
   "cell_type": "code",
   "execution_count": null,
   "id": "d0459670-a8f0-4b98-af46-cbfed6dacc64",
   "metadata": {},
   "outputs": [],
   "source": [
    "plt.hist(words_list)\n",
    "plt.plot()"
   ]
  },
  {
   "cell_type": "code",
   "execution_count": null,
   "id": "2c7a9a81-a372-4b83-a3a9-8a075ef67a7f",
   "metadata": {},
   "outputs": [],
   "source": []
  }
 ],
 "metadata": {
  "kernelspec": {
   "display_name": "Python 3 (ipykernel)",
   "language": "python",
   "name": "python3"
  },
  "language_info": {
   "codemirror_mode": {
    "name": "ipython",
    "version": 3
   },
   "file_extension": ".py",
   "mimetype": "text/x-python",
   "name": "python",
   "nbconvert_exporter": "python",
   "pygments_lexer": "ipython3",
   "version": "3.9.6"
  }
 },
 "nbformat": 4,
 "nbformat_minor": 5
}
