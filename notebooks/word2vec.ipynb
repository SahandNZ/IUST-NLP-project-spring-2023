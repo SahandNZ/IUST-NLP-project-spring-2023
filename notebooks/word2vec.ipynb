{
 "cells": [
  {
   "cell_type": "code",
   "execution_count": null,
   "id": "5fa2fed0-ae10-4e41-9a99-b7fd54cc6bd2",
   "metadata": {},
   "outputs": [],
   "source": [
    "import sys\n",
    "sys.path.append(\"..\")"
   ]
  },
  {
   "cell_type": "code",
   "execution_count": null,
   "id": "0f7c3cc7-3ed8-4fbb-b735-13f715ab8e96",
   "metadata": {},
   "outputs": [],
   "source": [
    "import os\n",
    "\n",
    "import torch\n",
    "import numpy as np\n",
    "import pandas as pd\n",
    "from tqdm import tqdm\n",
    "\n",
    "from definitions import DATASET_DIR"
   ]
  },
  {
   "cell_type": "markdown",
   "id": "fa62bf58-e689-4db6-9809-387e13511335",
   "metadata": {},
   "source": [
    "# Load Dataset "
   ]
  },
  {
   "cell_type": "code",
   "execution_count": null,
   "id": "4952a717-bafd-4346-bc2f-ad6dd51ba336",
   "metadata": {},
   "outputs": [],
   "source": [
    "TEXTUAL_SOURCE = \"cryptonews\"\n",
    "LABELING_METHOD = \"color\"\n",
    "\n",
    "sdf = pd.read_csv(os.path.join(DATASET_DIR, TEXTUAL_SOURCE, LABELING_METHOD, \"dataset.csv\"))\n",
    "\n",
    "sdf"
   ]
  },
  {
   "cell_type": "code",
   "execution_count": null,
   "id": "5671ad04-6986-44b4-8424-3a91a6c24d8e",
   "metadata": {},
   "outputs": [],
   "source": [
    "LABEL = 1\n",
    "\n",
    "df = sdf[LABEL == sdf.label]\n",
    "\n",
    "df"
   ]
  },
  {
   "cell_type": "markdown",
   "id": "fcf4bf63-c16b-46d9-8e1b-90cfeb63a82d",
   "metadata": {},
   "source": [
    "# Word to index "
   ]
  },
  {
   "cell_type": "code",
   "execution_count": null,
   "id": "813f8ed5-9011-4699-a2b3-da2f3c10dabd",
   "metadata": {},
   "outputs": [],
   "source": [
    "word2index = {}\n",
    "x, y = [], []\n",
    "for text in tqdm(df.text):\n",
    "    for word in text.split():\n",
    "        if word not in word2index:\n",
    "            word2index[word] = len(word2token)\n",
    "            \n",
    "print(\"{:<30}{}\".format(\"Token counts\", len(word2index)))"
   ]
  },
  {
   "cell_type": "markdown",
   "id": "930e45d1-0e87-4a07-b785-61be004f2432",
   "metadata": {},
   "source": [
    "# Negative sampling"
   ]
  },
  {
   "cell_type": "code",
   "execution_count": null,
   "id": "cd1dbbdd-0c7c-409b-a08a-98ebbb94b727",
   "metadata": {},
   "outputs": [],
   "source": [
    "EMBED_SIZE = 16\n",
    "CONTEXT_WINDOW = 5\n",
    "NEGATIVE_SAMPLES = 10\n",
    "\n",
    "center_indices, outside_indices = [], []\n",
    "for text in tqdm(df.text):\n",
    "    words = text.split()\n",
    "    for index in range(CONTEXT_WINDOW, len(words) - CONTEXT_WINDOW):\n",
    "        # positive samples\n",
    "        center_word = words[index]\n",
    "        center_index = word2index[center_word]\n",
    "        for outside_word in words[index - CONTEXT_WINDOW: index + CONTEXT_WINDOW]:\n",
    "            if outside_word != center_word:\n",
    "                center_indices.append(center_index)\n",
    "                outside_indices.append(word2index[outside_word])\n",
    "                \n",
    "        # negative samples\n",
    "        for "
   ]
  },
  {
   "cell_type": "code",
   "execution_count": null,
   "id": "6eed5196-e675-4594-9d14-8d147fe6dc90",
   "metadata": {},
   "outputs": [],
   "source": []
  }
 ],
 "metadata": {
  "kernelspec": {
   "display_name": "Python 3 (ipykernel)",
   "language": "python",
   "name": "python3"
  },
  "language_info": {
   "codemirror_mode": {
    "name": "ipython",
    "version": 3
   },
   "file_extension": ".py",
   "mimetype": "text/x-python",
   "name": "python",
   "nbconvert_exporter": "python",
   "pygments_lexer": "ipython3",
   "version": "3.10.6"
  }
 },
 "nbformat": 4,
 "nbformat_minor": 5
}
