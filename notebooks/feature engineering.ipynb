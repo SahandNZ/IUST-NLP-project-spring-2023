{
 "cells": [
  {
   "cell_type": "code",
   "execution_count": null,
   "id": "99ef01b7-2ef7-4da0-88d2-e93d10acbf5c",
   "metadata": {},
   "outputs": [],
   "source": [
    "import sys\n",
    "sys.path.append(\"..\")"
   ]
  },
  {
   "cell_type": "code",
   "execution_count": null,
   "id": "9f0f4ac5-1e80-4835-a397-8b0504681c17",
   "metadata": {},
   "outputs": [],
   "source": [
    "import os\n",
    "\n",
    "import torch\n",
    "import numpy as np\n",
    "import pandas as pd\n",
    "from tqdm import tqdm\n",
    "import sentencepiece as spm\n",
    "\n",
    "from src.feature.utils import *"
   ]
  },
  {
   "cell_type": "code",
   "execution_count": null,
   "id": "493ab7d6-8496-4eb7-85c3-fc3ee2750fbe",
   "metadata": {},
   "outputs": [],
   "source": [
    "TEXTUAL_SOURCE = \"cryptonews\"\n",
    "LABELING_METHOD = \"color\"\n",
    "\n",
    "sdf = load_dataset(TEXTUAL_SOURCE, LABELING_METHOD)"
   ]
  },
  {
   "cell_type": "markdown",
   "id": "1bd81a23-0b8a-4982-8db3-a8b72f0c7441",
   "metadata": {},
   "source": [
    "# Sentence Length as feature"
   ]
  },
  {
   "cell_type": "code",
   "execution_count": null,
   "id": "495dc0d1-01e7-4792-aab4-51f59f0e7683",
   "metadata": {},
   "outputs": [],
   "source": [
    "x, y = "
   ]
  },
  {
   "cell_type": "code",
   "execution_count": null,
   "id": "7a09b0cb-f028-4ae2-90c8-3289d7420287",
   "metadata": {},
   "outputs": [],
   "source": [
    "x, y"
   ]
  },
  {
   "cell_type": "code",
   "execution_count": null,
   "id": "a4ab4269-5b21-4905-b200-22a80ed2f16b",
   "metadata": {},
   "outputs": [],
   "source": []
  }
 ],
 "metadata": {
  "kernelspec": {
   "display_name": "Python 3 (ipykernel)",
   "language": "python",
   "name": "python3"
  },
  "language_info": {
   "codemirror_mode": {
    "name": "ipython",
    "version": 3
   },
   "file_extension": ".py",
   "mimetype": "text/x-python",
   "name": "python",
   "nbconvert_exporter": "python",
   "pygments_lexer": "ipython3",
   "version": "3.9.6"
  }
 },
 "nbformat": 4,
 "nbformat_minor": 5
}
